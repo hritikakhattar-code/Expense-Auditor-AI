{
 "cells": [
  {
   "cell_type": "code",
   "execution_count": null,
   "id": "60660126",
   "metadata": {
    "vscode": {
     "languageId": "plaintext"
    }
   },
   "outputs": [],
   "source": [
    "import pandas as pd\n",
    "import matplotlib.pyplot as plt\n",
    "\n",
    "# Load the dataset\n",
    "df = pd.read_csv('../data/expense_reports.csv')\n",
    "\n",
    "# Example of basic EDA\n",
    "df['Amount'].hist(bins=30)\n",
    "plt.title(\"Expense Amount Distribution\")\n",
    "plt.xlabel(\"Amount\")\n",
    "plt.ylabel(\"Frequency\")\n",
    "plt.show()\n",
    "\n",
    "# Explore suspicious descriptions\n",
    "suspicious_descriptions = df[df['Description'].str.contains('consulting|client|training|entertainment', case=False)]\n",
    "print(suspicious_descriptions)\n"
   ]
  }
 ],
 "metadata": {
  "language_info": {
   "name": "python"
  }
 },
 "nbformat": 4,
 "nbformat_minor": 5
}
